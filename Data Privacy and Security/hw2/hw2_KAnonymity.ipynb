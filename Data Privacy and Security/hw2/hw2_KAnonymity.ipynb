{
  "nbformat": 4,
  "nbformat_minor": 0,
  "metadata": {
    "colab": {
      "provenance": []
    },
    "kernelspec": {
      "name": "python3",
      "display_name": "Python 3"
    },
    "language_info": {
      "name": "python"
    }
  },
  "cells": [
    {
      "cell_type": "markdown",
      "source": [
        "# k-Anonymity"
      ],
      "metadata": {
        "id": "rp7En8FDtSao"
      }
    },
    {
      "cell_type": "code",
      "execution_count": 14,
      "metadata": {
        "id": "C45DMU0pSeMI"
      },
      "outputs": [],
      "source": [
        "#先導入資料處理會用到的模組\n",
        "import matplotlib.pyplot as plt\n",
        "import os\n",
        "import numpy as np\n",
        "import pandas as pd"
      ]
    },
    {
      "cell_type": "code",
      "source": [
        "#先加入資料集 StudentsPerformance.csv\n",
        "#讀檔\n",
        "df = pd.read_csv('StudentsPerformance.csv')"
      ],
      "metadata": {
        "id": "VK_wX2SPSx2f"
      },
      "execution_count": 15,
      "outputs": []
    },
    {
      "cell_type": "code",
      "source": [
        "#觀察資料\n",
        "df.head(6)"
      ],
      "metadata": {
        "colab": {
          "base_uri": "https://localhost:8080/",
          "height": 238
        },
        "id": "nCqNReQCTDXb",
        "outputId": "cc3ba2b1-3b55-4281-c147-7a29a32f6cba"
      },
      "execution_count": 16,
      "outputs": [
        {
          "output_type": "execute_result",
          "data": {
            "text/plain": [
              "   gender race_ethnicity parental_level_of_education         lunch  \\\n",
              "0  female        group B           bachelor's degree      standard   \n",
              "1  female        group C                some college      standard   \n",
              "2  female        group B             master's degree      standard   \n",
              "3    male        group A          associate's degree  free/reduced   \n",
              "4    male        group C                some college      standard   \n",
              "5  female        group B          associate's degree      standard   \n",
              "\n",
              "  test_preparation_course  math_score  reading_score  writing_score  \n",
              "0                    none          72             72             74  \n",
              "1               completed          69             90             88  \n",
              "2                    none          90             95             93  \n",
              "3                    none          47             57             44  \n",
              "4                    none          76             78             75  \n",
              "5                    none          71             83             78  "
            ],
            "text/html": [
              "\n",
              "  <div id=\"df-8b4b3fb3-33ef-493c-bed2-0e50e03edb87\" class=\"colab-df-container\">\n",
              "    <div>\n",
              "<style scoped>\n",
              "    .dataframe tbody tr th:only-of-type {\n",
              "        vertical-align: middle;\n",
              "    }\n",
              "\n",
              "    .dataframe tbody tr th {\n",
              "        vertical-align: top;\n",
              "    }\n",
              "\n",
              "    .dataframe thead th {\n",
              "        text-align: right;\n",
              "    }\n",
              "</style>\n",
              "<table border=\"1\" class=\"dataframe\">\n",
              "  <thead>\n",
              "    <tr style=\"text-align: right;\">\n",
              "      <th></th>\n",
              "      <th>gender</th>\n",
              "      <th>race_ethnicity</th>\n",
              "      <th>parental_level_of_education</th>\n",
              "      <th>lunch</th>\n",
              "      <th>test_preparation_course</th>\n",
              "      <th>math_score</th>\n",
              "      <th>reading_score</th>\n",
              "      <th>writing_score</th>\n",
              "    </tr>\n",
              "  </thead>\n",
              "  <tbody>\n",
              "    <tr>\n",
              "      <th>0</th>\n",
              "      <td>female</td>\n",
              "      <td>group B</td>\n",
              "      <td>bachelor's degree</td>\n",
              "      <td>standard</td>\n",
              "      <td>none</td>\n",
              "      <td>72</td>\n",
              "      <td>72</td>\n",
              "      <td>74</td>\n",
              "    </tr>\n",
              "    <tr>\n",
              "      <th>1</th>\n",
              "      <td>female</td>\n",
              "      <td>group C</td>\n",
              "      <td>some college</td>\n",
              "      <td>standard</td>\n",
              "      <td>completed</td>\n",
              "      <td>69</td>\n",
              "      <td>90</td>\n",
              "      <td>88</td>\n",
              "    </tr>\n",
              "    <tr>\n",
              "      <th>2</th>\n",
              "      <td>female</td>\n",
              "      <td>group B</td>\n",
              "      <td>master's degree</td>\n",
              "      <td>standard</td>\n",
              "      <td>none</td>\n",
              "      <td>90</td>\n",
              "      <td>95</td>\n",
              "      <td>93</td>\n",
              "    </tr>\n",
              "    <tr>\n",
              "      <th>3</th>\n",
              "      <td>male</td>\n",
              "      <td>group A</td>\n",
              "      <td>associate's degree</td>\n",
              "      <td>free/reduced</td>\n",
              "      <td>none</td>\n",
              "      <td>47</td>\n",
              "      <td>57</td>\n",
              "      <td>44</td>\n",
              "    </tr>\n",
              "    <tr>\n",
              "      <th>4</th>\n",
              "      <td>male</td>\n",
              "      <td>group C</td>\n",
              "      <td>some college</td>\n",
              "      <td>standard</td>\n",
              "      <td>none</td>\n",
              "      <td>76</td>\n",
              "      <td>78</td>\n",
              "      <td>75</td>\n",
              "    </tr>\n",
              "    <tr>\n",
              "      <th>5</th>\n",
              "      <td>female</td>\n",
              "      <td>group B</td>\n",
              "      <td>associate's degree</td>\n",
              "      <td>standard</td>\n",
              "      <td>none</td>\n",
              "      <td>71</td>\n",
              "      <td>83</td>\n",
              "      <td>78</td>\n",
              "    </tr>\n",
              "  </tbody>\n",
              "</table>\n",
              "</div>\n",
              "    <div class=\"colab-df-buttons\">\n",
              "\n",
              "  <div class=\"colab-df-container\">\n",
              "    <button class=\"colab-df-convert\" onclick=\"convertToInteractive('df-8b4b3fb3-33ef-493c-bed2-0e50e03edb87')\"\n",
              "            title=\"Convert this dataframe to an interactive table.\"\n",
              "            style=\"display:none;\">\n",
              "\n",
              "  <svg xmlns=\"http://www.w3.org/2000/svg\" height=\"24px\" viewBox=\"0 -960 960 960\">\n",
              "    <path d=\"M120-120v-720h720v720H120Zm60-500h600v-160H180v160Zm220 220h160v-160H400v160Zm0 220h160v-160H400v160ZM180-400h160v-160H180v160Zm440 0h160v-160H620v160ZM180-180h160v-160H180v160Zm440 0h160v-160H620v160Z\"/>\n",
              "  </svg>\n",
              "    </button>\n",
              "\n",
              "  <style>\n",
              "    .colab-df-container {\n",
              "      display:flex;\n",
              "      gap: 12px;\n",
              "    }\n",
              "\n",
              "    .colab-df-convert {\n",
              "      background-color: #E8F0FE;\n",
              "      border: none;\n",
              "      border-radius: 50%;\n",
              "      cursor: pointer;\n",
              "      display: none;\n",
              "      fill: #1967D2;\n",
              "      height: 32px;\n",
              "      padding: 0 0 0 0;\n",
              "      width: 32px;\n",
              "    }\n",
              "\n",
              "    .colab-df-convert:hover {\n",
              "      background-color: #E2EBFA;\n",
              "      box-shadow: 0px 1px 2px rgba(60, 64, 67, 0.3), 0px 1px 3px 1px rgba(60, 64, 67, 0.15);\n",
              "      fill: #174EA6;\n",
              "    }\n",
              "\n",
              "    .colab-df-buttons div {\n",
              "      margin-bottom: 4px;\n",
              "    }\n",
              "\n",
              "    [theme=dark] .colab-df-convert {\n",
              "      background-color: #3B4455;\n",
              "      fill: #D2E3FC;\n",
              "    }\n",
              "\n",
              "    [theme=dark] .colab-df-convert:hover {\n",
              "      background-color: #434B5C;\n",
              "      box-shadow: 0px 1px 3px 1px rgba(0, 0, 0, 0.15);\n",
              "      filter: drop-shadow(0px 1px 2px rgba(0, 0, 0, 0.3));\n",
              "      fill: #FFFFFF;\n",
              "    }\n",
              "  </style>\n",
              "\n",
              "    <script>\n",
              "      const buttonEl =\n",
              "        document.querySelector('#df-8b4b3fb3-33ef-493c-bed2-0e50e03edb87 button.colab-df-convert');\n",
              "      buttonEl.style.display =\n",
              "        google.colab.kernel.accessAllowed ? 'block' : 'none';\n",
              "\n",
              "      async function convertToInteractive(key) {\n",
              "        const element = document.querySelector('#df-8b4b3fb3-33ef-493c-bed2-0e50e03edb87');\n",
              "        const dataTable =\n",
              "          await google.colab.kernel.invokeFunction('convertToInteractive',\n",
              "                                                    [key], {});\n",
              "        if (!dataTable) return;\n",
              "\n",
              "        const docLinkHtml = 'Like what you see? Visit the ' +\n",
              "          '<a target=\"_blank\" href=https://colab.research.google.com/notebooks/data_table.ipynb>data table notebook</a>'\n",
              "          + ' to learn more about interactive tables.';\n",
              "        element.innerHTML = '';\n",
              "        dataTable['output_type'] = 'display_data';\n",
              "        await google.colab.output.renderOutput(dataTable, element);\n",
              "        const docLink = document.createElement('div');\n",
              "        docLink.innerHTML = docLinkHtml;\n",
              "        element.appendChild(docLink);\n",
              "      }\n",
              "    </script>\n",
              "  </div>\n",
              "\n",
              "\n",
              "<div id=\"df-82bf83da-f6da-4af0-bfe3-b609a15181b6\">\n",
              "  <button class=\"colab-df-quickchart\" onclick=\"quickchart('df-82bf83da-f6da-4af0-bfe3-b609a15181b6')\"\n",
              "            title=\"Suggest charts.\"\n",
              "            style=\"display:none;\">\n",
              "\n",
              "<svg xmlns=\"http://www.w3.org/2000/svg\" height=\"24px\"viewBox=\"0 0 24 24\"\n",
              "     width=\"24px\">\n",
              "    <g>\n",
              "        <path d=\"M19 3H5c-1.1 0-2 .9-2 2v14c0 1.1.9 2 2 2h14c1.1 0 2-.9 2-2V5c0-1.1-.9-2-2-2zM9 17H7v-7h2v7zm4 0h-2V7h2v10zm4 0h-2v-4h2v4z\"/>\n",
              "    </g>\n",
              "</svg>\n",
              "  </button>\n",
              "\n",
              "<style>\n",
              "  .colab-df-quickchart {\n",
              "      --bg-color: #E8F0FE;\n",
              "      --fill-color: #1967D2;\n",
              "      --hover-bg-color: #E2EBFA;\n",
              "      --hover-fill-color: #174EA6;\n",
              "      --disabled-fill-color: #AAA;\n",
              "      --disabled-bg-color: #DDD;\n",
              "  }\n",
              "\n",
              "  [theme=dark] .colab-df-quickchart {\n",
              "      --bg-color: #3B4455;\n",
              "      --fill-color: #D2E3FC;\n",
              "      --hover-bg-color: #434B5C;\n",
              "      --hover-fill-color: #FFFFFF;\n",
              "      --disabled-bg-color: #3B4455;\n",
              "      --disabled-fill-color: #666;\n",
              "  }\n",
              "\n",
              "  .colab-df-quickchart {\n",
              "    background-color: var(--bg-color);\n",
              "    border: none;\n",
              "    border-radius: 50%;\n",
              "    cursor: pointer;\n",
              "    display: none;\n",
              "    fill: var(--fill-color);\n",
              "    height: 32px;\n",
              "    padding: 0;\n",
              "    width: 32px;\n",
              "  }\n",
              "\n",
              "  .colab-df-quickchart:hover {\n",
              "    background-color: var(--hover-bg-color);\n",
              "    box-shadow: 0 1px 2px rgba(60, 64, 67, 0.3), 0 1px 3px 1px rgba(60, 64, 67, 0.15);\n",
              "    fill: var(--button-hover-fill-color);\n",
              "  }\n",
              "\n",
              "  .colab-df-quickchart-complete:disabled,\n",
              "  .colab-df-quickchart-complete:disabled:hover {\n",
              "    background-color: var(--disabled-bg-color);\n",
              "    fill: var(--disabled-fill-color);\n",
              "    box-shadow: none;\n",
              "  }\n",
              "\n",
              "  .colab-df-spinner {\n",
              "    border: 2px solid var(--fill-color);\n",
              "    border-color: transparent;\n",
              "    border-bottom-color: var(--fill-color);\n",
              "    animation:\n",
              "      spin 1s steps(1) infinite;\n",
              "  }\n",
              "\n",
              "  @keyframes spin {\n",
              "    0% {\n",
              "      border-color: transparent;\n",
              "      border-bottom-color: var(--fill-color);\n",
              "      border-left-color: var(--fill-color);\n",
              "    }\n",
              "    20% {\n",
              "      border-color: transparent;\n",
              "      border-left-color: var(--fill-color);\n",
              "      border-top-color: var(--fill-color);\n",
              "    }\n",
              "    30% {\n",
              "      border-color: transparent;\n",
              "      border-left-color: var(--fill-color);\n",
              "      border-top-color: var(--fill-color);\n",
              "      border-right-color: var(--fill-color);\n",
              "    }\n",
              "    40% {\n",
              "      border-color: transparent;\n",
              "      border-right-color: var(--fill-color);\n",
              "      border-top-color: var(--fill-color);\n",
              "    }\n",
              "    60% {\n",
              "      border-color: transparent;\n",
              "      border-right-color: var(--fill-color);\n",
              "    }\n",
              "    80% {\n",
              "      border-color: transparent;\n",
              "      border-right-color: var(--fill-color);\n",
              "      border-bottom-color: var(--fill-color);\n",
              "    }\n",
              "    90% {\n",
              "      border-color: transparent;\n",
              "      border-bottom-color: var(--fill-color);\n",
              "    }\n",
              "  }\n",
              "</style>\n",
              "\n",
              "  <script>\n",
              "    async function quickchart(key) {\n",
              "      const quickchartButtonEl =\n",
              "        document.querySelector('#' + key + ' button');\n",
              "      quickchartButtonEl.disabled = true;  // To prevent multiple clicks.\n",
              "      quickchartButtonEl.classList.add('colab-df-spinner');\n",
              "      try {\n",
              "        const charts = await google.colab.kernel.invokeFunction(\n",
              "            'suggestCharts', [key], {});\n",
              "      } catch (error) {\n",
              "        console.error('Error during call to suggestCharts:', error);\n",
              "      }\n",
              "      quickchartButtonEl.classList.remove('colab-df-spinner');\n",
              "      quickchartButtonEl.classList.add('colab-df-quickchart-complete');\n",
              "    }\n",
              "    (() => {\n",
              "      let quickchartButtonEl =\n",
              "        document.querySelector('#df-82bf83da-f6da-4af0-bfe3-b609a15181b6 button');\n",
              "      quickchartButtonEl.style.display =\n",
              "        google.colab.kernel.accessAllowed ? 'block' : 'none';\n",
              "    })();\n",
              "  </script>\n",
              "</div>\n",
              "    </div>\n",
              "  </div>\n"
            ]
          },
          "metadata": {},
          "execution_count": 16
        }
      ]
    },
    {
      "cell_type": "code",
      "source": [
        "# 種族進行匿名化\n",
        "# group C\n",
        "# group D\n",
        "# group A, group B, group A -> other\n",
        "race_mapping = {'group A': 'other',\n",
        "         'group B': 'other',\n",
        "         'group C': 'group C',\n",
        "         'group D': 'group D',\n",
        "         'group E': 'other'}\n",
        "df['race_ethnicity'] = df['race_ethnicity'].map(race_mapping)"
      ],
      "metadata": {
        "id": "XQOuwwENqbPL"
      },
      "execution_count": 17,
      "outputs": []
    },
    {
      "cell_type": "code",
      "source": [
        "# 教育程度進行匿名化\n",
        "# some high school, high school -> before college\n",
        "# some college\n",
        "# associate's degree\n",
        "# bachelor's degree, master's degree -> bachelor's and master's degree\n",
        "education_mapping = {'some high school': 'before college',\n",
        "            'high school': 'before college',\n",
        "            'some college': 'some college',\n",
        "            'associate\\'s degree': 'associate\\'s degree',\n",
        "            'bachelor\\'s degree': 'bachelor\\'s and master\\'s degree',\n",
        "            'master\\'s degree': 'bachelor\\'s and master\\'s degree'}\n",
        "df['parental_level_of_education'] = df['parental_level_of_education'].map(education_mapping)"
      ],
      "metadata": {
        "id": "DX1Wb7L8qs6s"
      },
      "execution_count": 18,
      "outputs": []
    },
    {
      "cell_type": "code",
      "source": [
        "# mark gender 輸出csv檔\n",
        "# k = 6\n",
        "'''\n",
        "gender_mapping = {'male': '*', 'female': '*'}\n",
        "df['gender'] = df['gender'].map(gender_mapping)\n",
        "df.to_csv(\"k6_mark_gender.csv\", index=False)\n",
        "'''"
      ],
      "metadata": {
        "id": "qH9tuWRYrQ7X",
        "colab": {
          "base_uri": "https://localhost:8080/",
          "height": 53
        },
        "outputId": "ae09e3bd-d654-4377-eb1e-f5fd481acbd7"
      },
      "execution_count": null,
      "outputs": [
        {
          "output_type": "execute_result",
          "data": {
            "text/plain": [
              "'\\ngender_mapping = {\\'male\\': \\'*\\', \\'female\\': \\'*\\'}\\ndf[\\'gender\\'] = df[\\'gender\\'].map(gender_mapping)\\ndf.to_csv(\"k6_mark_gender.csv\", index=False)\\n'"
            ],
            "application/vnd.google.colaboratory.intrinsic+json": {
              "type": "string"
            }
          },
          "metadata": {},
          "execution_count": 37
        }
      ]
    },
    {
      "cell_type": "code",
      "source": [
        "# mark race/ethnicity 輸出csv檔\n",
        "# k = 10\n",
        "'''\n",
        "race_mapping = {'group A': '*',\n",
        "         'group B': '*',\n",
        "         'group C': '*',\n",
        "         'group D': '*',\n",
        "         'group E': '*'}\n",
        "df['race_ethnicity'] = df['race_ethnicity'].map(race_mapping)\n",
        "df.to_csv(\"k10_mark_race_ethnicity.csv\", index=False)\n",
        "'''"
      ],
      "metadata": {
        "id": "ffkADJy-r4mA",
        "colab": {
          "base_uri": "https://localhost:8080/",
          "height": 53
        },
        "outputId": "6eab12bb-6420-4a64-9d6d-63acc49613b8"
      },
      "execution_count": null,
      "outputs": [
        {
          "output_type": "execute_result",
          "data": {
            "text/plain": [
              "'\\nrace_mapping = {\\'group A\\': \\'*\\',\\n         \\'group B\\': \\'*\\',\\n         \\'group C\\': \\'*\\',\\n         \\'group D\\': \\'*\\',\\n         \\'group E\\': \\'*\\'}\\ndf[\\'race_ethnicity\\'] = df[\\'race_ethnicity\\'].map(race_mapping)\\ndf.to_csv(\"k10_mark_race_ethnicity.csv\", index=False)\\n'"
            ],
            "application/vnd.google.colaboratory.intrinsic+json": {
              "type": "string"
            }
          },
          "metadata": {},
          "execution_count": 38
        }
      ]
    },
    {
      "cell_type": "code",
      "source": [
        "# mark parental level of education 輸出csv檔\n",
        "# k = 13\n",
        "'''\n",
        "education_mapping = {'some high school': '*',\n",
        "            'high school': '*',\n",
        "            'some college': '*',\n",
        "            'associate\\'s degree': '*',\n",
        "            'bachelor\\'s degree': '*',\n",
        "            'master\\'s degree': '*'}\n",
        "df['parental_level_of_education'] = df['parental_level_of_education'].map(education_mapping)\n",
        "df.to_csv(\"k13_mark_parental_level_of_education.csv\", index=False)\n",
        "'''"
      ],
      "metadata": {
        "id": "kaqa94YdsiA7",
        "colab": {
          "base_uri": "https://localhost:8080/",
          "height": 70
        },
        "outputId": "4aaa8f1c-c5a1-4c8b-a37b-254a8ef5bc7c"
      },
      "execution_count": null,
      "outputs": [
        {
          "output_type": "execute_result",
          "data": {
            "text/plain": [
              "'\\neducation_mapping = {\\'some high school\\': \\'*\\',\\n            \\'high school\\': \\'*\\',\\n            \\'some college\\': \\'*\\',\\n            \\'associate\\'s degree\\': \\'*\\',\\n            \\'bachelor\\'s degree\\': \\'*\\',\\n            \\'master\\'s degree\\': \\'*\\'}\\ndf[\\'parental_level_of_education\\'] = df[\\'parental_level_of_education\\'].map(education_mapping)\\ndf.to_csv(\"k13_mark_parental_level_of_education.csv\", index=False)\\n'"
            ],
            "application/vnd.google.colaboratory.intrinsic+json": {
              "type": "string"
            }
          },
          "metadata": {},
          "execution_count": 39
        }
      ]
    },
    {
      "cell_type": "code",
      "source": [
        "# mark lunch 輸出csv檔\n",
        "# k = 5\n",
        "'''\n",
        "lunch_mapping = {'standard': '*', 'free/reduced': '*'}\n",
        "df['lunch'] = df['lunch'].map(lunch_mapping)\n",
        "df.to_csv(\"k5_mark_lunch.csv\", index=False)\n",
        "'''"
      ],
      "metadata": {
        "id": "Se7sxfDfs7pE",
        "colab": {
          "base_uri": "https://localhost:8080/",
          "height": 53
        },
        "outputId": "a496b529-fcef-468a-9674-2e4221de0273"
      },
      "execution_count": null,
      "outputs": [
        {
          "output_type": "execute_result",
          "data": {
            "text/plain": [
              "'\\nlunch_mapping = {\\'standard\\': \\'*\\', \\'free/reduced\\': \\'*\\'}\\ndf[\\'lunch\\'] = df[\\'lunch\\'].map(lunch_mapping)\\ndf.to_csv(\"k5_mark_lunch.csv\", index=False)\\n'"
            ],
            "application/vnd.google.colaboratory.intrinsic+json": {
              "type": "string"
            }
          },
          "metadata": {},
          "execution_count": 40
        }
      ]
    },
    {
      "cell_type": "code",
      "source": [
        "# mark test preparation course 輸出csv檔\n",
        "# k = 9\n",
        "'''\n",
        "preparation_mapping = {'none': '*', 'completed': '*'}\n",
        "df['test_preparation_course'] = df['test_preparation_course'].map(preparation_mapping)\n",
        "df.to_csv(\"k9_mark_test_preparation_course.csv\", index=False)\n",
        "'''"
      ],
      "metadata": {
        "id": "w7f1ujT8tRmo",
        "colab": {
          "base_uri": "https://localhost:8080/",
          "height": 53
        },
        "outputId": "b29ed27b-21da-4cdb-a4be-2eb08ecfaa64"
      },
      "execution_count": null,
      "outputs": [
        {
          "output_type": "execute_result",
          "data": {
            "text/plain": [
              "'\\npreparation_mapping = {\\'none\\': \\'*\\', \\'completed\\': \\'*\\'}\\ndf[\\'test_preparation_course\\'] = df[\\'test_preparation_course\\'].map(preparation_mapping)\\ndf.to_csv(\"k9_mark_test_preparation_course.csv\", index=False)\\n'"
            ],
            "application/vnd.google.colaboratory.intrinsic+json": {
              "type": "string"
            }
          },
          "metadata": {},
          "execution_count": 41
        }
      ]
    },
    {
      "cell_type": "code",
      "source": [
        "# 對資料進行 mapping, 將 string 轉換成 int\n",
        "gender_mapping = {'male': 0, 'female': 1}\n",
        "#race_mapping = {'group A': 1, 'group B': 2, 'group C': 3, 'group D': 4, 'group E': 5}\n",
        "race_mapping = {'group C': 1, 'group D': 2, 'other': 3}\n",
        "#education_mapping = {'some high school': 1, 'high school': 2, 'some college': 3, 'associate\\'s degree': 4, 'bachelor\\'s degree': 5, 'master\\'s degree': 6}\n",
        "education_mapping = {'before college': 1, 'some college': 2, 'associate\\'s degree': 3, 'bachelor\\'s and master\\'s degree': 4}\n",
        "lunch_mapping = {'standard': 0, 'free/reduced':1}\n",
        "preparation_mapping = {'none': 0, 'completed': 1}"
      ],
      "metadata": {
        "id": "8kAs_X4zj4Km"
      },
      "execution_count": 19,
      "outputs": []
    },
    {
      "cell_type": "code",
      "source": [
        "df['gender'] = df['gender'].map(gender_mapping)\n",
        "df['race_ethnicity'] = df['race_ethnicity'].map(race_mapping)\n",
        "df['parental_level_of_education'] = df['parental_level_of_education'].map(education_mapping)\n",
        "df['lunch'] = df['lunch'].map(lunch_mapping)\n",
        "df['test_preparation_course'] = df['test_preparation_course'].map(preparation_mapping)"
      ],
      "metadata": {
        "id": "pF8R9S1fluTY"
      },
      "execution_count": 20,
      "outputs": []
    },
    {
      "cell_type": "code",
      "source": [
        "# 將資料泛化 (10)\n",
        "'''\n",
        "def generalize(df, depths):\n",
        "  return df.apply(lambda x: x.apply(lambda y: int(y/(10**depths[x.name]))*(10**depths[x.name])))\n",
        "\n",
        "# depths次方\n",
        "depths = {\n",
        "    'gender': 0,\n",
        "    'race_ethnicity': 0,\n",
        "    'parental_level_of_education': 0,\n",
        "    'lunch' : 0,\n",
        "    'test_preparation_course' : 0,\n",
        "    'math_score': 1,\n",
        "    'reading_score': 1,\n",
        "    'writing_score': 1\n",
        "}\n",
        "'''"
      ],
      "metadata": {
        "colab": {
          "base_uri": "https://localhost:8080/",
          "height": 70
        },
        "id": "mRYjYvIL2qmg",
        "outputId": "0a211c38-c7e7-406e-de58-94856660542b"
      },
      "execution_count": null,
      "outputs": [
        {
          "output_type": "execute_result",
          "data": {
            "text/plain": [
              "\"\\ndef generalize(df, depths):\\n  return df.apply(lambda x: x.apply(lambda y: int(y/(10**depths[x.name]))*(10**depths[x.name])))\\n\\n# depths次方\\ndepths = {\\n    'gender': 0,\\n    'race_ethnicity': 0,\\n    'parental_level_of_education': 0,\\n    'lunch' : 0,\\n    'test_preparation_course' : 0,\\n    'math_score': 1,\\n    'reading_score': 1,\\n    'writing_score': 1\\n}\\n\""
            ],
            "application/vnd.google.colaboratory.intrinsic+json": {
              "type": "string"
            }
          },
          "metadata": {},
          "execution_count": 44
        }
      ]
    },
    {
      "cell_type": "code",
      "source": [
        "#df2 = generalize(df, depths)"
      ],
      "metadata": {
        "id": "HBGI0AyF21Lj"
      },
      "execution_count": null,
      "outputs": []
    },
    {
      "cell_type": "code",
      "source": [
        "# 處理離群值\n",
        "'''\n",
        "dfp = df.clip(lower = np.array([0, 0, 0, 0, 0, 40, 40, 40]), axis = 'columns')\n",
        "dfp2 = dfp.clip(upper = np.array([10, 10, 10, 10, 10, 80, 80, 80]), axis = 'columns')\n",
        "'''"
      ],
      "metadata": {
        "colab": {
          "base_uri": "https://localhost:8080/",
          "height": 53
        },
        "id": "kX-X2Fm429dp",
        "outputId": "9baa4feb-5f94-454f-c188-828893efd11a"
      },
      "execution_count": null,
      "outputs": [
        {
          "output_type": "execute_result",
          "data": {
            "text/plain": [
              "\"\\ndfp = df.clip(lower = np.array([0, 0, 0, 0, 0, 40, 40, 40]), axis = 'columns')\\ndfp2 = dfp.clip(upper = np.array([10, 10, 10, 10, 10, 80, 80, 80]), axis = 'columns')\\n\""
            ],
            "application/vnd.google.colaboratory.intrinsic+json": {
              "type": "string"
            }
          },
          "metadata": {},
          "execution_count": 46
        }
      ]
    },
    {
      "cell_type": "code",
      "source": [
        "# 對成績進行分群 2分\n",
        "'''\n",
        "df = df.sort_values(by=['math_score'])\n",
        "df['math_score'][:500] = 1\n",
        "df['math_score'][500:] = 2\n",
        "\n",
        "df = df.sort_values(by=['reading_score'])\n",
        "df['reading_score'][:500] = 1\n",
        "df['reading_score'][500:] = 2\n",
        "\n",
        "df = df.sort_values(by=['writing_score'])\n",
        "df['writing_score'][:500] = 1\n",
        "df['writing_score'][500:] = 2\n",
        "'''"
      ],
      "metadata": {
        "id": "ho9wJtzx0VyU",
        "colab": {
          "base_uri": "https://localhost:8080/",
          "height": 70
        },
        "outputId": "e8ec17dd-6060-4c1f-998b-cbdd642f8967"
      },
      "execution_count": null,
      "outputs": [
        {
          "output_type": "execute_result",
          "data": {
            "text/plain": [
              "\"\\ndf = df.sort_values(by=['math_score'])\\ndf['math_score'][:500] = 1\\ndf['math_score'][500:] = 2\\n\\ndf = df.sort_values(by=['reading_score'])\\ndf['reading_score'][:500] = 1\\ndf['reading_score'][500:] = 2\\n\\ndf = df.sort_values(by=['writing_score'])\\ndf['writing_score'][:500] = 1\\ndf['writing_score'][500:] = 2\\n\""
            ],
            "application/vnd.google.colaboratory.intrinsic+json": {
              "type": "string"
            }
          },
          "metadata": {},
          "execution_count": 47
        }
      ]
    },
    {
      "cell_type": "code",
      "source": [
        "# 對成績進行分群 3分\n",
        "'''\n",
        "df = df.sort_values(by=['math_score'])\n",
        "df['math_score'][:333] = 1\n",
        "df['math_score'][333:667] = 2\n",
        "df['math_score'][667:] = 3\n",
        "\n",
        "df = df.sort_values(by=['reading_score'])\n",
        "df['reading_score'][:333] = 1\n",
        "df['reading_score'][333:667] = 2\n",
        "df['reading_score'][667:] = 3\n",
        "\n",
        "df = df.sort_values(by=['writing_score']).reset_index()\n",
        "df['writing_score'][:333] = 1\n",
        "df['writing_score'][333:667] = 2\n",
        "df['writing_score'][667:] = 3\n",
        "'''"
      ],
      "metadata": {
        "id": "IuDPOhHWOUSt",
        "colab": {
          "base_uri": "https://localhost:8080/",
          "height": 70
        },
        "outputId": "147e885f-8b25-40d6-fcdf-50ee9d64b773"
      },
      "execution_count": null,
      "outputs": [
        {
          "output_type": "execute_result",
          "data": {
            "text/plain": [
              "\"\\ndf = df.sort_values(by=['math_score'])\\ndf['math_score'][:333] = 1\\ndf['math_score'][333:667] = 2\\ndf['math_score'][667:] = 3\\n\\ndf = df.sort_values(by=['reading_score'])\\ndf['reading_score'][:333] = 1\\ndf['reading_score'][333:667] = 2\\ndf['reading_score'][667:] = 3\\n\\ndf = df.sort_values(by=['writing_score']).reset_index()\\ndf['writing_score'][:333] = 1\\ndf['writing_score'][333:667] = 2\\ndf['writing_score'][667:] = 3\\n\""
            ],
            "application/vnd.google.colaboratory.intrinsic+json": {
              "type": "string"
            }
          },
          "metadata": {},
          "execution_count": 48
        }
      ]
    },
    {
      "cell_type": "code",
      "source": [
        "# 重製排序\n",
        "'''\n",
        "df = df.sort_values(by=['index']).reset_index()\n",
        "df = df.drop(columns=['level_0', 'index'])\n",
        "'''"
      ],
      "metadata": {
        "id": "dXSV7U_5OEBE",
        "colab": {
          "base_uri": "https://localhost:8080/",
          "height": 36
        },
        "outputId": "4648b20a-db11-431e-cfd9-ae96478c7abb"
      },
      "execution_count": null,
      "outputs": [
        {
          "output_type": "execute_result",
          "data": {
            "text/plain": [
              "\"\\ndf = df.sort_values(by=['index']).reset_index()\\ndf = df.drop(columns=['level_0', 'index'])\\n\""
            ],
            "application/vnd.google.colaboratory.intrinsic+json": {
              "type": "string"
            }
          },
          "metadata": {},
          "execution_count": 49
        }
      ]
    },
    {
      "cell_type": "code",
      "source": [
        "df.info()"
      ],
      "metadata": {
        "colab": {
          "base_uri": "https://localhost:8080/"
        },
        "id": "ml70_qNtmFJE",
        "outputId": "c0b61085-90c2-4897-cd9d-d2eefe02e301"
      },
      "execution_count": 21,
      "outputs": [
        {
          "output_type": "stream",
          "name": "stdout",
          "text": [
            "<class 'pandas.core.frame.DataFrame'>\n",
            "RangeIndex: 1000 entries, 0 to 999\n",
            "Data columns (total 8 columns):\n",
            " #   Column                       Non-Null Count  Dtype\n",
            "---  ------                       --------------  -----\n",
            " 0   gender                       1000 non-null   int64\n",
            " 1   race_ethnicity               1000 non-null   int64\n",
            " 2   parental_level_of_education  1000 non-null   int64\n",
            " 3   lunch                        1000 non-null   int64\n",
            " 4   test_preparation_course      1000 non-null   int64\n",
            " 5   math_score                   1000 non-null   int64\n",
            " 6   reading_score                1000 non-null   int64\n",
            " 7   writing_score                1000 non-null   int64\n",
            "dtypes: int64(8)\n",
            "memory usage: 62.6 KB\n"
          ]
        }
      ]
    },
    {
      "cell_type": "code",
      "source": [
        "# 先 drop 掉不需要的attributes\n",
        "df = df.drop(columns = ['test_preparation_course', 'math_score', 'reading_score', 'writing_score'])"
      ],
      "metadata": {
        "id": "NqyFL5FpbNl_"
      },
      "execution_count": 22,
      "outputs": []
    },
    {
      "cell_type": "code",
      "source": [
        "df.head(6)"
      ],
      "metadata": {
        "colab": {
          "base_uri": "https://localhost:8080/",
          "height": 238
        },
        "id": "P8OjQHHqN_I-",
        "outputId": "65225f01-021f-41e8-9a3d-448cb1efb35c"
      },
      "execution_count": 23,
      "outputs": [
        {
          "output_type": "execute_result",
          "data": {
            "text/plain": [
              "   gender  race_ethnicity  parental_level_of_education  lunch\n",
              "0       1               3                            4      0\n",
              "1       1               1                            2      0\n",
              "2       1               3                            4      0\n",
              "3       0               3                            3      1\n",
              "4       0               1                            2      0\n",
              "5       1               3                            3      0"
            ],
            "text/html": [
              "\n",
              "  <div id=\"df-027fcc8f-d380-4281-85c9-ef5bbb2f44e9\" class=\"colab-df-container\">\n",
              "    <div>\n",
              "<style scoped>\n",
              "    .dataframe tbody tr th:only-of-type {\n",
              "        vertical-align: middle;\n",
              "    }\n",
              "\n",
              "    .dataframe tbody tr th {\n",
              "        vertical-align: top;\n",
              "    }\n",
              "\n",
              "    .dataframe thead th {\n",
              "        text-align: right;\n",
              "    }\n",
              "</style>\n",
              "<table border=\"1\" class=\"dataframe\">\n",
              "  <thead>\n",
              "    <tr style=\"text-align: right;\">\n",
              "      <th></th>\n",
              "      <th>gender</th>\n",
              "      <th>race_ethnicity</th>\n",
              "      <th>parental_level_of_education</th>\n",
              "      <th>lunch</th>\n",
              "    </tr>\n",
              "  </thead>\n",
              "  <tbody>\n",
              "    <tr>\n",
              "      <th>0</th>\n",
              "      <td>1</td>\n",
              "      <td>3</td>\n",
              "      <td>4</td>\n",
              "      <td>0</td>\n",
              "    </tr>\n",
              "    <tr>\n",
              "      <th>1</th>\n",
              "      <td>1</td>\n",
              "      <td>1</td>\n",
              "      <td>2</td>\n",
              "      <td>0</td>\n",
              "    </tr>\n",
              "    <tr>\n",
              "      <th>2</th>\n",
              "      <td>1</td>\n",
              "      <td>3</td>\n",
              "      <td>4</td>\n",
              "      <td>0</td>\n",
              "    </tr>\n",
              "    <tr>\n",
              "      <th>3</th>\n",
              "      <td>0</td>\n",
              "      <td>3</td>\n",
              "      <td>3</td>\n",
              "      <td>1</td>\n",
              "    </tr>\n",
              "    <tr>\n",
              "      <th>4</th>\n",
              "      <td>0</td>\n",
              "      <td>1</td>\n",
              "      <td>2</td>\n",
              "      <td>0</td>\n",
              "    </tr>\n",
              "    <tr>\n",
              "      <th>5</th>\n",
              "      <td>1</td>\n",
              "      <td>3</td>\n",
              "      <td>3</td>\n",
              "      <td>0</td>\n",
              "    </tr>\n",
              "  </tbody>\n",
              "</table>\n",
              "</div>\n",
              "    <div class=\"colab-df-buttons\">\n",
              "\n",
              "  <div class=\"colab-df-container\">\n",
              "    <button class=\"colab-df-convert\" onclick=\"convertToInteractive('df-027fcc8f-d380-4281-85c9-ef5bbb2f44e9')\"\n",
              "            title=\"Convert this dataframe to an interactive table.\"\n",
              "            style=\"display:none;\">\n",
              "\n",
              "  <svg xmlns=\"http://www.w3.org/2000/svg\" height=\"24px\" viewBox=\"0 -960 960 960\">\n",
              "    <path d=\"M120-120v-720h720v720H120Zm60-500h600v-160H180v160Zm220 220h160v-160H400v160Zm0 220h160v-160H400v160ZM180-400h160v-160H180v160Zm440 0h160v-160H620v160ZM180-180h160v-160H180v160Zm440 0h160v-160H620v160Z\"/>\n",
              "  </svg>\n",
              "    </button>\n",
              "\n",
              "  <style>\n",
              "    .colab-df-container {\n",
              "      display:flex;\n",
              "      gap: 12px;\n",
              "    }\n",
              "\n",
              "    .colab-df-convert {\n",
              "      background-color: #E8F0FE;\n",
              "      border: none;\n",
              "      border-radius: 50%;\n",
              "      cursor: pointer;\n",
              "      display: none;\n",
              "      fill: #1967D2;\n",
              "      height: 32px;\n",
              "      padding: 0 0 0 0;\n",
              "      width: 32px;\n",
              "    }\n",
              "\n",
              "    .colab-df-convert:hover {\n",
              "      background-color: #E2EBFA;\n",
              "      box-shadow: 0px 1px 2px rgba(60, 64, 67, 0.3), 0px 1px 3px 1px rgba(60, 64, 67, 0.15);\n",
              "      fill: #174EA6;\n",
              "    }\n",
              "\n",
              "    .colab-df-buttons div {\n",
              "      margin-bottom: 4px;\n",
              "    }\n",
              "\n",
              "    [theme=dark] .colab-df-convert {\n",
              "      background-color: #3B4455;\n",
              "      fill: #D2E3FC;\n",
              "    }\n",
              "\n",
              "    [theme=dark] .colab-df-convert:hover {\n",
              "      background-color: #434B5C;\n",
              "      box-shadow: 0px 1px 3px 1px rgba(0, 0, 0, 0.15);\n",
              "      filter: drop-shadow(0px 1px 2px rgba(0, 0, 0, 0.3));\n",
              "      fill: #FFFFFF;\n",
              "    }\n",
              "  </style>\n",
              "\n",
              "    <script>\n",
              "      const buttonEl =\n",
              "        document.querySelector('#df-027fcc8f-d380-4281-85c9-ef5bbb2f44e9 button.colab-df-convert');\n",
              "      buttonEl.style.display =\n",
              "        google.colab.kernel.accessAllowed ? 'block' : 'none';\n",
              "\n",
              "      async function convertToInteractive(key) {\n",
              "        const element = document.querySelector('#df-027fcc8f-d380-4281-85c9-ef5bbb2f44e9');\n",
              "        const dataTable =\n",
              "          await google.colab.kernel.invokeFunction('convertToInteractive',\n",
              "                                                    [key], {});\n",
              "        if (!dataTable) return;\n",
              "\n",
              "        const docLinkHtml = 'Like what you see? Visit the ' +\n",
              "          '<a target=\"_blank\" href=https://colab.research.google.com/notebooks/data_table.ipynb>data table notebook</a>'\n",
              "          + ' to learn more about interactive tables.';\n",
              "        element.innerHTML = '';\n",
              "        dataTable['output_type'] = 'display_data';\n",
              "        await google.colab.output.renderOutput(dataTable, element);\n",
              "        const docLink = document.createElement('div');\n",
              "        docLink.innerHTML = docLinkHtml;\n",
              "        element.appendChild(docLink);\n",
              "      }\n",
              "    </script>\n",
              "  </div>\n",
              "\n",
              "\n",
              "<div id=\"df-d7a1b3c0-e52c-4427-b727-627b61ff7efc\">\n",
              "  <button class=\"colab-df-quickchart\" onclick=\"quickchart('df-d7a1b3c0-e52c-4427-b727-627b61ff7efc')\"\n",
              "            title=\"Suggest charts.\"\n",
              "            style=\"display:none;\">\n",
              "\n",
              "<svg xmlns=\"http://www.w3.org/2000/svg\" height=\"24px\"viewBox=\"0 0 24 24\"\n",
              "     width=\"24px\">\n",
              "    <g>\n",
              "        <path d=\"M19 3H5c-1.1 0-2 .9-2 2v14c0 1.1.9 2 2 2h14c1.1 0 2-.9 2-2V5c0-1.1-.9-2-2-2zM9 17H7v-7h2v7zm4 0h-2V7h2v10zm4 0h-2v-4h2v4z\"/>\n",
              "    </g>\n",
              "</svg>\n",
              "  </button>\n",
              "\n",
              "<style>\n",
              "  .colab-df-quickchart {\n",
              "      --bg-color: #E8F0FE;\n",
              "      --fill-color: #1967D2;\n",
              "      --hover-bg-color: #E2EBFA;\n",
              "      --hover-fill-color: #174EA6;\n",
              "      --disabled-fill-color: #AAA;\n",
              "      --disabled-bg-color: #DDD;\n",
              "  }\n",
              "\n",
              "  [theme=dark] .colab-df-quickchart {\n",
              "      --bg-color: #3B4455;\n",
              "      --fill-color: #D2E3FC;\n",
              "      --hover-bg-color: #434B5C;\n",
              "      --hover-fill-color: #FFFFFF;\n",
              "      --disabled-bg-color: #3B4455;\n",
              "      --disabled-fill-color: #666;\n",
              "  }\n",
              "\n",
              "  .colab-df-quickchart {\n",
              "    background-color: var(--bg-color);\n",
              "    border: none;\n",
              "    border-radius: 50%;\n",
              "    cursor: pointer;\n",
              "    display: none;\n",
              "    fill: var(--fill-color);\n",
              "    height: 32px;\n",
              "    padding: 0;\n",
              "    width: 32px;\n",
              "  }\n",
              "\n",
              "  .colab-df-quickchart:hover {\n",
              "    background-color: var(--hover-bg-color);\n",
              "    box-shadow: 0 1px 2px rgba(60, 64, 67, 0.3), 0 1px 3px 1px rgba(60, 64, 67, 0.15);\n",
              "    fill: var(--button-hover-fill-color);\n",
              "  }\n",
              "\n",
              "  .colab-df-quickchart-complete:disabled,\n",
              "  .colab-df-quickchart-complete:disabled:hover {\n",
              "    background-color: var(--disabled-bg-color);\n",
              "    fill: var(--disabled-fill-color);\n",
              "    box-shadow: none;\n",
              "  }\n",
              "\n",
              "  .colab-df-spinner {\n",
              "    border: 2px solid var(--fill-color);\n",
              "    border-color: transparent;\n",
              "    border-bottom-color: var(--fill-color);\n",
              "    animation:\n",
              "      spin 1s steps(1) infinite;\n",
              "  }\n",
              "\n",
              "  @keyframes spin {\n",
              "    0% {\n",
              "      border-color: transparent;\n",
              "      border-bottom-color: var(--fill-color);\n",
              "      border-left-color: var(--fill-color);\n",
              "    }\n",
              "    20% {\n",
              "      border-color: transparent;\n",
              "      border-left-color: var(--fill-color);\n",
              "      border-top-color: var(--fill-color);\n",
              "    }\n",
              "    30% {\n",
              "      border-color: transparent;\n",
              "      border-left-color: var(--fill-color);\n",
              "      border-top-color: var(--fill-color);\n",
              "      border-right-color: var(--fill-color);\n",
              "    }\n",
              "    40% {\n",
              "      border-color: transparent;\n",
              "      border-right-color: var(--fill-color);\n",
              "      border-top-color: var(--fill-color);\n",
              "    }\n",
              "    60% {\n",
              "      border-color: transparent;\n",
              "      border-right-color: var(--fill-color);\n",
              "    }\n",
              "    80% {\n",
              "      border-color: transparent;\n",
              "      border-right-color: var(--fill-color);\n",
              "      border-bottom-color: var(--fill-color);\n",
              "    }\n",
              "    90% {\n",
              "      border-color: transparent;\n",
              "      border-bottom-color: var(--fill-color);\n",
              "    }\n",
              "  }\n",
              "</style>\n",
              "\n",
              "  <script>\n",
              "    async function quickchart(key) {\n",
              "      const quickchartButtonEl =\n",
              "        document.querySelector('#' + key + ' button');\n",
              "      quickchartButtonEl.disabled = true;  // To prevent multiple clicks.\n",
              "      quickchartButtonEl.classList.add('colab-df-spinner');\n",
              "      try {\n",
              "        const charts = await google.colab.kernel.invokeFunction(\n",
              "            'suggestCharts', [key], {});\n",
              "      } catch (error) {\n",
              "        console.error('Error during call to suggestCharts:', error);\n",
              "      }\n",
              "      quickchartButtonEl.classList.remove('colab-df-spinner');\n",
              "      quickchartButtonEl.classList.add('colab-df-quickchart-complete');\n",
              "    }\n",
              "    (() => {\n",
              "      let quickchartButtonEl =\n",
              "        document.querySelector('#df-d7a1b3c0-e52c-4427-b727-627b61ff7efc button');\n",
              "      quickchartButtonEl.style.display =\n",
              "        google.colab.kernel.accessAllowed ? 'block' : 'none';\n",
              "    })();\n",
              "  </script>\n",
              "</div>\n",
              "    </div>\n",
              "  </div>\n"
            ]
          },
          "metadata": {},
          "execution_count": 23
        }
      ]
    },
    {
      "cell_type": "code",
      "source": [
        "# 判斷k等於幾\n",
        "def KAnonymized(df):\n",
        "  cnt = 1\n",
        "  while(isKAnonymized(df, cnt) == True):\n",
        "    cnt += 1\n",
        "  print(\"final k = \", cnt)\n",
        "  return cnt\n",
        "\n",
        "# 判斷是否為k匿名\n",
        "def isKAnonymized(df, k):\n",
        "  #w = 0\n",
        "  for index, row in df.iterrows():\n",
        "    query = ' & '.join([f'{col} == {row[col]}' for col in df.columns])\n",
        "    rows = len(df.query(query))\n",
        "    #if rows <= k:\n",
        "    #  w += 1\n",
        "    if rows <= k:\n",
        "      return False\n",
        "  #if w >= 1:\n",
        "  #  print('w = ', w)\n",
        "  #  return False\n",
        "  return True\n"
      ],
      "metadata": {
        "id": "jxuX65EaTfKS"
      },
      "execution_count": 24,
      "outputs": []
    },
    {
      "cell_type": "code",
      "source": [
        "KAnonymized(df)"
      ],
      "metadata": {
        "id": "4bT3OcEpU5RW",
        "colab": {
          "base_uri": "https://localhost:8080/"
        },
        "outputId": "6018cccd-33b5-471c-aa57-5122a7be7be6"
      },
      "execution_count": 25,
      "outputs": [
        {
          "output_type": "stream",
          "name": "stdout",
          "text": [
            "final k =  9\n"
          ]
        },
        {
          "output_type": "execute_result",
          "data": {
            "text/plain": [
              "9"
            ]
          },
          "metadata": {},
          "execution_count": 25
        }
      ]
    }
  ]
}