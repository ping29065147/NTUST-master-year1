{
  "cells": [
    {
      "cell_type": "code",
      "execution_count": 1,
      "metadata": {
        "id": "5TAWmchTBenx"
      },
      "outputs": [],
      "source": [
        "from sklearn import datasets, svm\n",
        "from sklearn.model_selection import cross_val_score, KFold, cross_validate\n",
        "from sklearn.ensemble import RandomForestClassifier\n",
        "from sklearn.neural_network import MLPClassifier\n",
        "import pandas as pd"
      ]
    },
    {
      "cell_type": "code",
      "execution_count": 2,
      "metadata": {
        "id": "sviWQdyNBen4"
      },
      "outputs": [],
      "source": [
        "def run_svm(data, label):\n",
        "  clf = svm.SVC(kernel='linear')\n",
        "\n",
        "  kf = KFold(n_splits=10, shuffle=True, random_state=42)\n",
        "\n",
        "  svm_scores = cross_validate(clf, data, label, cv=kf, scoring=['accuracy','f1_weighted','recall_weighted'])\n",
        "\n",
        "  print(\"SVM:\")\n",
        "  print(\"Accuracy: %0.4f (+/- %0.4f)\" % (svm_scores['test_accuracy'].mean(), svm_scores['test_accuracy'].std() * 4))\n",
        "  print(\"F1 Score: %0.4f (+/- %0.4f)\" % (svm_scores['test_f1_weighted'].mean(), svm_scores['test_f1_weighted'].std() * 4))\n",
        "  print(\"recall: %0.4f (+/- %0.4f)\" % (svm_scores['test_recall_weighted'].mean(), svm_scores['test_recall_weighted'].std() * 4))\n",
        "\n",
        "def run_rf(data, label):\n",
        "  rf_classifier = RandomForestClassifier(n_estimators=100)\n",
        "\n",
        "  kf = KFold(n_splits=10, shuffle=True, random_state=42)\n",
        "\n",
        "  rf_scores = cross_validate(rf_classifier, data, label, cv=kf, scoring=['accuracy','f1_weighted','recall_weighted'])\n",
        "\n",
        "  print(\"RF:\")\n",
        "  print(\"Accuracy: %0.4f (+/- %0.4f)\" % (rf_scores['test_accuracy'].mean(), rf_scores['test_accuracy'].std() * 4))\n",
        "  print(\"F1 Score: %0.4f (+/- %0.4f)\" % (rf_scores['test_f1_weighted'].mean(), rf_scores['test_f1_weighted'].std() * 4))\n",
        "  print(\"recall: %0.4f (+/- %0.4f)\" % (rf_scores['test_recall_weighted'].mean(), rf_scores['test_recall_weighted'].std() * 4))\n",
        "\n",
        "def run_nlp(data, label):\n",
        "  mlp_classifier = MLPClassifier()\n",
        "\n",
        "  kf = KFold(n_splits=10, shuffle=True, random_state=42)\n",
        "\n",
        "  mlp_scores = cross_validate(mlp_classifier, data, label, cv=kf, scoring=['accuracy','f1_weighted','recall_weighted'])\n",
        "\n",
        "  print(\"MLP:\")\n",
        "  print(\"Accuracy: %0.4f (+/- %0.4f)\" % (mlp_scores['test_accuracy'].mean(), mlp_scores['test_accuracy'].std() * 4))\n",
        "  print(\"F1 Score: %0.4f (+/- %0.4f)\" % (mlp_scores['test_f1_weighted'].mean(), mlp_scores['test_f1_weighted'].std() * 4))\n",
        "  print(\"recall: %0.4f (+/- %0.4f)\" % (mlp_scores['test_recall_weighted'].mean(), mlp_scores['test_recall_weighted'].std() * 4))\n",
        "\n",
        "def run(data, label):\n",
        "  run_svm(data, label)\n",
        "  print(\"\\n\")\n",
        "  run_rf(data, label)\n",
        "  print(\"\\n\")\n",
        "  run_nlp(data, label)"
      ]
    },
    {
      "cell_type": "code",
      "execution_count": 3,
      "metadata": {
        "id": "rb_uNtULP0ef"
      },
      "outputs": [],
      "source": [
        "def sort_score(df1, df2):\n",
        "  df1 = df1.sort_values(by=['reading_score'])\n",
        "  df1['reading_score'][:333] = 1\n",
        "  df1['reading_score'][333:667] = 2\n",
        "  df1['reading_score'][667:] = 3\n",
        "\n",
        "  df1 = df1.sort_values(by=['writing_score'])\n",
        "  df1['writing_score'][:333] = 1\n",
        "  df1['writing_score'][333:667] = 2\n",
        "  df1['writing_score'][667:] = 3\n",
        "\n",
        "  df2 = df2.sort_values(by=['reading_score'])\n",
        "  df2['reading_score'][:333] = 1\n",
        "  df2['reading_score'][333:667] = 2\n",
        "  df2['reading_score'][667:] = 3\n",
        "\n",
        "  df2 = df2.sort_values(by=['writing_score'])\n",
        "  df2['writing_score'][:333] = 1\n",
        "  df2['writing_score'][333:667] = 2\n",
        "  df2['writing_score'][667:] = 3\n",
        "  return df1, df2"
      ]
    },
    {
      "cell_type": "code",
      "execution_count": 6,
      "metadata": {
        "id": "GJdlaDeYEXJA"
      },
      "outputs": [],
      "source": [
        "# drop test preparation course\n",
        "def drop_test(path):\n",
        "  df = pd.read_csv(path).drop(\"math_score\",axis=1).drop(\"test_preparation_course\", axis=1)\n",
        "\n",
        "  df = pd.get_dummies(df,columns=[\"race_ethnicity\"], prefix='', prefix_sep='')\n",
        "  cols = [\"group A\", \"group B\", \"group C\", \"group D\", \"group E\", \"other\"]\n",
        "  for col in cols:\n",
        "    if col not in df.columns.tolist():\n",
        "      df[col] = 0\n",
        "  df.rename(columns={\"group A\": \"group_A\", \"group B\": \"group_B\", \"group C\": \"group_C\", \"group D\": \"group_D\", \"group E\": \"group_E\"})\n",
        "\n",
        "  df[\"parental_level_of_education\"] = df[\"parental_level_of_education\"].map({\"bachelor's and master's degree\": 4, \"master's degree\": 4, \"bachelor's degree\": 4, \"associate's degree\": 3, \"some college\": 2, \"before college\": 1, \"high school\": 1, \"some high school\": 1})\n",
        "  df = pd.get_dummies(df, columns=[\"gender\"], prefix='', prefix_sep='')\n",
        "  df[\"lunch\"] = df[\"lunch\"].map({\"standard\": 1, \"free/reduced\": 0})\n",
        "\n",
        "  return df\n",
        "\n",
        "def test():\n",
        "  df1, df2 = sort_score(drop_test(\"StudentsPerformance.csv\"), drop_test(\"k9_mark_test_preparation_course.csv\"))\n",
        "  print(\"df1:\")\n",
        "  run(df1.drop(\"writing_score\",axis=1), df1[\"writing_score\"])\n",
        "  print(\"\\ndf2:\")\n",
        "  run(df2.drop(\"writing_score\",axis=1), df2[\"writing_score\"])"
      ]
    },
    {
      "cell_type": "code",
      "execution_count": 9,
      "metadata": {
        "colab": {
          "base_uri": "https://localhost:8080/"
        },
        "id": "rn-P7KTD5ghy",
        "outputId": "cf09bb0b-e490-4fee-ec34-4b4ad31cb9bf"
      },
      "outputs": [
        {
          "name": "stderr",
          "output_type": "stream",
          "text": [
            "<ipython-input-3-c2382f9b1325>:3: SettingWithCopyWarning: \n",
            "A value is trying to be set on a copy of a slice from a DataFrame\n",
            "\n",
            "See the caveats in the documentation: https://pandas.pydata.org/pandas-docs/stable/user_guide/indexing.html#returning-a-view-versus-a-copy\n",
            "  df1['reading_score'][:333] = 1\n",
            "<ipython-input-3-c2382f9b1325>:4: SettingWithCopyWarning: \n",
            "A value is trying to be set on a copy of a slice from a DataFrame\n",
            "\n",
            "See the caveats in the documentation: https://pandas.pydata.org/pandas-docs/stable/user_guide/indexing.html#returning-a-view-versus-a-copy\n",
            "  df1['reading_score'][333:667] = 2\n",
            "<ipython-input-3-c2382f9b1325>:5: SettingWithCopyWarning: \n",
            "A value is trying to be set on a copy of a slice from a DataFrame\n",
            "\n",
            "See the caveats in the documentation: https://pandas.pydata.org/pandas-docs/stable/user_guide/indexing.html#returning-a-view-versus-a-copy\n",
            "  df1['reading_score'][667:] = 3\n",
            "<ipython-input-3-c2382f9b1325>:8: SettingWithCopyWarning: \n",
            "A value is trying to be set on a copy of a slice from a DataFrame\n",
            "\n",
            "See the caveats in the documentation: https://pandas.pydata.org/pandas-docs/stable/user_guide/indexing.html#returning-a-view-versus-a-copy\n",
            "  df1['writing_score'][:333] = 1\n",
            "<ipython-input-3-c2382f9b1325>:9: SettingWithCopyWarning: \n",
            "A value is trying to be set on a copy of a slice from a DataFrame\n",
            "\n",
            "See the caveats in the documentation: https://pandas.pydata.org/pandas-docs/stable/user_guide/indexing.html#returning-a-view-versus-a-copy\n",
            "  df1['writing_score'][333:667] = 2\n",
            "<ipython-input-3-c2382f9b1325>:10: SettingWithCopyWarning: \n",
            "A value is trying to be set on a copy of a slice from a DataFrame\n",
            "\n",
            "See the caveats in the documentation: https://pandas.pydata.org/pandas-docs/stable/user_guide/indexing.html#returning-a-view-versus-a-copy\n",
            "  df1['writing_score'][667:] = 3\n",
            "<ipython-input-3-c2382f9b1325>:13: SettingWithCopyWarning: \n",
            "A value is trying to be set on a copy of a slice from a DataFrame\n",
            "\n",
            "See the caveats in the documentation: https://pandas.pydata.org/pandas-docs/stable/user_guide/indexing.html#returning-a-view-versus-a-copy\n",
            "  df2['reading_score'][:333] = 1\n",
            "<ipython-input-3-c2382f9b1325>:14: SettingWithCopyWarning: \n",
            "A value is trying to be set on a copy of a slice from a DataFrame\n",
            "\n",
            "See the caveats in the documentation: https://pandas.pydata.org/pandas-docs/stable/user_guide/indexing.html#returning-a-view-versus-a-copy\n",
            "  df2['reading_score'][333:667] = 2\n",
            "<ipython-input-3-c2382f9b1325>:15: SettingWithCopyWarning: \n",
            "A value is trying to be set on a copy of a slice from a DataFrame\n",
            "\n",
            "See the caveats in the documentation: https://pandas.pydata.org/pandas-docs/stable/user_guide/indexing.html#returning-a-view-versus-a-copy\n",
            "  df2['reading_score'][667:] = 3\n",
            "<ipython-input-3-c2382f9b1325>:18: SettingWithCopyWarning: \n",
            "A value is trying to be set on a copy of a slice from a DataFrame\n",
            "\n",
            "See the caveats in the documentation: https://pandas.pydata.org/pandas-docs/stable/user_guide/indexing.html#returning-a-view-versus-a-copy\n",
            "  df2['writing_score'][:333] = 1\n",
            "<ipython-input-3-c2382f9b1325>:19: SettingWithCopyWarning: \n",
            "A value is trying to be set on a copy of a slice from a DataFrame\n",
            "\n",
            "See the caveats in the documentation: https://pandas.pydata.org/pandas-docs/stable/user_guide/indexing.html#returning-a-view-versus-a-copy\n",
            "  df2['writing_score'][333:667] = 2\n",
            "<ipython-input-3-c2382f9b1325>:20: SettingWithCopyWarning: \n",
            "A value is trying to be set on a copy of a slice from a DataFrame\n",
            "\n",
            "See the caveats in the documentation: https://pandas.pydata.org/pandas-docs/stable/user_guide/indexing.html#returning-a-view-versus-a-copy\n",
            "  df2['writing_score'][667:] = 3\n"
          ]
        },
        {
          "name": "stdout",
          "output_type": "stream",
          "text": [
            "df1:\n",
            "SVM:\n",
            "Accuracy: 0.8150 (+/- 0.1190)\n",
            "F1 Score: 0.8152 (+/- 0.1172)\n",
            "recall: 0.8150 (+/- 0.1190)\n",
            "\n",
            "\n",
            "RF:\n",
            "Accuracy: 0.7760 (+/- 0.1189)\n",
            "F1 Score: 0.7766 (+/- 0.1233)\n",
            "recall: 0.7760 (+/- 0.1189)\n",
            "\n",
            "\n"
          ]
        },
        {
          "name": "stderr",
          "output_type": "stream",
          "text": [
            "/usr/local/lib/python3.10/dist-packages/sklearn/neural_network/_multilayer_perceptron.py:686: ConvergenceWarning: Stochastic Optimizer: Maximum iterations (200) reached and the optimization hasn't converged yet.\n",
            "  warnings.warn(\n",
            "/usr/local/lib/python3.10/dist-packages/sklearn/neural_network/_multilayer_perceptron.py:686: ConvergenceWarning: Stochastic Optimizer: Maximum iterations (200) reached and the optimization hasn't converged yet.\n",
            "  warnings.warn(\n",
            "/usr/local/lib/python3.10/dist-packages/sklearn/neural_network/_multilayer_perceptron.py:686: ConvergenceWarning: Stochastic Optimizer: Maximum iterations (200) reached and the optimization hasn't converged yet.\n",
            "  warnings.warn(\n",
            "/usr/local/lib/python3.10/dist-packages/sklearn/neural_network/_multilayer_perceptron.py:686: ConvergenceWarning: Stochastic Optimizer: Maximum iterations (200) reached and the optimization hasn't converged yet.\n",
            "  warnings.warn(\n",
            "/usr/local/lib/python3.10/dist-packages/sklearn/neural_network/_multilayer_perceptron.py:686: ConvergenceWarning: Stochastic Optimizer: Maximum iterations (200) reached and the optimization hasn't converged yet.\n",
            "  warnings.warn(\n",
            "/usr/local/lib/python3.10/dist-packages/sklearn/neural_network/_multilayer_perceptron.py:686: ConvergenceWarning: Stochastic Optimizer: Maximum iterations (200) reached and the optimization hasn't converged yet.\n",
            "  warnings.warn(\n",
            "/usr/local/lib/python3.10/dist-packages/sklearn/neural_network/_multilayer_perceptron.py:686: ConvergenceWarning: Stochastic Optimizer: Maximum iterations (200) reached and the optimization hasn't converged yet.\n",
            "  warnings.warn(\n",
            "/usr/local/lib/python3.10/dist-packages/sklearn/neural_network/_multilayer_perceptron.py:686: ConvergenceWarning: Stochastic Optimizer: Maximum iterations (200) reached and the optimization hasn't converged yet.\n",
            "  warnings.warn(\n",
            "/usr/local/lib/python3.10/dist-packages/sklearn/neural_network/_multilayer_perceptron.py:686: ConvergenceWarning: Stochastic Optimizer: Maximum iterations (200) reached and the optimization hasn't converged yet.\n",
            "  warnings.warn(\n",
            "/usr/local/lib/python3.10/dist-packages/sklearn/neural_network/_multilayer_perceptron.py:686: ConvergenceWarning: Stochastic Optimizer: Maximum iterations (200) reached and the optimization hasn't converged yet.\n",
            "  warnings.warn(\n"
          ]
        },
        {
          "name": "stdout",
          "output_type": "stream",
          "text": [
            "MLP:\n",
            "Accuracy: 0.8130 (+/- 0.1303)\n",
            "F1 Score: 0.8139 (+/- 0.1293)\n",
            "recall: 0.8130 (+/- 0.1303)\n",
            "\n",
            "df2:\n",
            "SVM:\n",
            "Accuracy: 0.8150 (+/- 0.1190)\n",
            "F1 Score: 0.8152 (+/- 0.1172)\n",
            "recall: 0.8150 (+/- 0.1190)\n",
            "\n",
            "\n",
            "RF:\n",
            "Accuracy: 0.7870 (+/- 0.1902)\n",
            "F1 Score: 0.7869 (+/- 0.1913)\n",
            "recall: 0.7870 (+/- 0.1902)\n",
            "\n",
            "\n"
          ]
        },
        {
          "name": "stderr",
          "output_type": "stream",
          "text": [
            "/usr/local/lib/python3.10/dist-packages/sklearn/neural_network/_multilayer_perceptron.py:686: ConvergenceWarning: Stochastic Optimizer: Maximum iterations (200) reached and the optimization hasn't converged yet.\n",
            "  warnings.warn(\n",
            "/usr/local/lib/python3.10/dist-packages/sklearn/neural_network/_multilayer_perceptron.py:686: ConvergenceWarning: Stochastic Optimizer: Maximum iterations (200) reached and the optimization hasn't converged yet.\n",
            "  warnings.warn(\n",
            "/usr/local/lib/python3.10/dist-packages/sklearn/neural_network/_multilayer_perceptron.py:686: ConvergenceWarning: Stochastic Optimizer: Maximum iterations (200) reached and the optimization hasn't converged yet.\n",
            "  warnings.warn(\n",
            "/usr/local/lib/python3.10/dist-packages/sklearn/neural_network/_multilayer_perceptron.py:686: ConvergenceWarning: Stochastic Optimizer: Maximum iterations (200) reached and the optimization hasn't converged yet.\n",
            "  warnings.warn(\n",
            "/usr/local/lib/python3.10/dist-packages/sklearn/neural_network/_multilayer_perceptron.py:686: ConvergenceWarning: Stochastic Optimizer: Maximum iterations (200) reached and the optimization hasn't converged yet.\n",
            "  warnings.warn(\n",
            "/usr/local/lib/python3.10/dist-packages/sklearn/neural_network/_multilayer_perceptron.py:686: ConvergenceWarning: Stochastic Optimizer: Maximum iterations (200) reached and the optimization hasn't converged yet.\n",
            "  warnings.warn(\n",
            "/usr/local/lib/python3.10/dist-packages/sklearn/neural_network/_multilayer_perceptron.py:686: ConvergenceWarning: Stochastic Optimizer: Maximum iterations (200) reached and the optimization hasn't converged yet.\n",
            "  warnings.warn(\n",
            "/usr/local/lib/python3.10/dist-packages/sklearn/neural_network/_multilayer_perceptron.py:686: ConvergenceWarning: Stochastic Optimizer: Maximum iterations (200) reached and the optimization hasn't converged yet.\n",
            "  warnings.warn(\n"
          ]
        },
        {
          "name": "stdout",
          "output_type": "stream",
          "text": [
            "MLP:\n",
            "Accuracy: 0.8130 (+/- 0.1118)\n",
            "F1 Score: 0.8135 (+/- 0.1109)\n",
            "recall: 0.8130 (+/- 0.1118)\n"
          ]
        },
        {
          "name": "stderr",
          "output_type": "stream",
          "text": [
            "/usr/local/lib/python3.10/dist-packages/sklearn/neural_network/_multilayer_perceptron.py:686: ConvergenceWarning: Stochastic Optimizer: Maximum iterations (200) reached and the optimization hasn't converged yet.\n",
            "  warnings.warn(\n"
          ]
        }
      ],
      "source": [
        "test()"
      ]
    }
  ],
  "metadata": {
    "colab": {
      "provenance": []
    },
    "kernelspec": {
      "display_name": "Python 3",
      "language": "python",
      "name": "python3"
    },
    "language_info": {
      "codemirror_mode": {
        "name": "ipython",
        "version": 3
      },
      "file_extension": ".py",
      "mimetype": "text/x-python",
      "name": "python",
      "nbconvert_exporter": "python",
      "pygments_lexer": "ipython3",
      "version": "3.10.12"
    }
  },
  "nbformat": 4,
  "nbformat_minor": 0
}
